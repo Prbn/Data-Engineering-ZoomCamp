{
 "cells": [
  {
   "cell_type": "markdown",
   "metadata": {},
   "source": [
    "# System Installation:\n",
    "\n",
    "---\n",
    "\n",
    "## macOS:\n",
    "\n",
    "**Package Manager**\n",
    "```bash\n",
    "brew tap hashicorp/tap\n",
    "brew install hashicorp/tap/terraform\n",
    "```\n",
    "\n",
    "**Binary download**\n",
    "\n",
    "**AMD64**\n",
    "[Download](https://releases.hashicorp.com/terraform/1.10.5/terraform_1.10.5_darwin_amd64.zip)\n",
    "\n",
    "**ARM64**\n",
    "[Download](https://releases.hashicorp.com/terraform/1.10.5/terraform_1.10.5_darwin_arm64.zip)\n",
    "\n",
    "---\n",
    "\n",
    "## Windows:\n",
    "\n",
    "**Binary download**\n",
    "\n",
    "**386**\n",
    "[Download](https://releases.hashicorp.com/terraform/1.10.5/terraform_1.10.5_windows_386.zip)\n",
    "\n",
    "**AMD64**\n",
    "[Download](https://releases.hashicorp.com/terraform/1.10.5/terraform_1.10.5_windows_amd64.zip)\n",
    "\n",
    "---\n",
    "\n",
    "**Reference:**\\\n",
    "https://developer.hashicorp.com/terraform/install\n",
    "\n",
    "---\n",
    "---\n",
    "\n",
    "\n"
   ]
  },
  {
   "cell_type": "markdown",
   "metadata": {},
   "source": []
  }
 ],
 "metadata": {
  "language_info": {
   "name": "python"
  }
 },
 "nbformat": 4,
 "nbformat_minor": 2
}
