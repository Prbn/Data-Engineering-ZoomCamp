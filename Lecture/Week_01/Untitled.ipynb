{
 "cells": [
  {
   "cell_type": "code",
   "execution_count": 1,
   "id": "11dfba69-8b15-484f-8c56-2157c1ce8fbe",
   "metadata": {},
   "outputs": [],
   "source": [
    "# Import\n",
    "\n",
    "import pandas"
   ]
  },
  {
   "cell_type": "code",
   "execution_count": 2,
   "id": "e77ec8c9-44e5-4630-b153-5593f6f791b7",
   "metadata": {},
   "outputs": [
    {
     "name": "stdout",
     "output_type": "stream",
     "text": [
      "01_02_01 Docker.md    Untitled.ipynb        pipeline.py\n",
      "01_02_02 Ingestion.md dockerfile            \u001b[34mvol\u001b[m\u001b[m\n"
     ]
    }
   ],
   "source": [
    "!ls"
   ]
  },
  {
   "cell_type": "code",
   "execution_count": 3,
   "id": "555081c1-eae8-4af3-a050-6ed86d6390f0",
   "metadata": {},
   "outputs": [],
   "source": [
    "import os"
   ]
  },
  {
   "cell_type": "code",
   "execution_count": 4,
   "id": "53ae2b6f-91ab-4021-ac77-b165e2ef7fe1",
   "metadata": {},
   "outputs": [
    {
     "data": {
      "text/plain": [
       "'/Users/prbnrs/GIT/Data-Engineering-ZoomCamp/Lecture/Week_01'"
      ]
     },
     "execution_count": 4,
     "metadata": {},
     "output_type": "execute_result"
    }
   ],
   "source": [
    "os.getcwd()"
   ]
  },
  {
   "cell_type": "code",
   "execution_count": 5,
   "id": "1fc61cfb-7d89-4c83-8dad-2a6db93dae0b",
   "metadata": {},
   "outputs": [],
   "source": [
    "os.chdir('/Users/prbnrs/GIT/Data-Engineering-ZoomCamp')\n"
   ]
  },
  {
   "cell_type": "code",
   "execution_count": 6,
   "id": "8ad4540c-f54d-48d7-b679-33b19c3d32bc",
   "metadata": {},
   "outputs": [
    {
     "name": "stdout",
     "output_type": "stream",
     "text": [
      "\u001b[34mHW\u001b[m\u001b[m         LICENSE    \u001b[34mLecture\u001b[m\u001b[m    README.md  \u001b[34mdata\u001b[m\u001b[m       \u001b[34mdocker_sql\u001b[m\u001b[m \u001b[34mtest_env\u001b[m\u001b[m\n"
     ]
    }
   ],
   "source": [
    "!ls"
   ]
  },
  {
   "cell_type": "code",
   "execution_count": 2,
   "id": "78508722-398d-4217-b21b-df426b43929e",
   "metadata": {},
   "outputs": [
    {
     "name": "stdout",
     "output_type": "stream",
     "text": [
      "zsh:1: command not found: wget\n"
     ]
    }
   ],
   "source": [
    "!wget https://github.com/DataTalksClub/nyc-tlc-data/releases/download/green/green_tripdata_2019-10.csv.gz -O data/green_tripdata_2019-10.csv.gz"
   ]
  },
  {
   "cell_type": "code",
   "execution_count": null,
   "id": "d8e246c4-e3a9-41b7-bdf7-b57890ccb547",
   "metadata": {},
   "outputs": [],
   "source": []
  }
 ],
 "metadata": {
  "kernelspec": {
   "display_name": "Python 3 (ipykernel)",
   "language": "python",
   "name": "python3"
  },
  "language_info": {
   "codemirror_mode": {
    "name": "ipython",
    "version": 3
   },
   "file_extension": ".py",
   "mimetype": "text/x-python",
   "name": "python",
   "nbconvert_exporter": "python",
   "pygments_lexer": "ipython3",
   "version": "3.11.1"
  }
 },
 "nbformat": 4,
 "nbformat_minor": 5
}
